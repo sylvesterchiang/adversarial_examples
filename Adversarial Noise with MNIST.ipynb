{
 "cells": [
  {
   "cell_type": "code",
   "execution_count": 1,
   "metadata": {
    "collapsed": false
   },
   "outputs": [
    {
     "name": "stderr",
     "output_type": "stream",
     "text": [
      "WARNING (theano.sandbox.cuda): The cuda backend is deprecated and will be removed in the next release (v0.10).  Please switch to the gpuarray backend. You can get more information about how to switch at this URL:\n",
      " https://github.com/Theano/Theano/wiki/Converting-to-the-new-gpu-back-end%28gpuarray%29\n",
      "\n",
      "Using gpu device 6: GeForce GTX TITAN X (CNMeM is enabled with initial size: 95.0% of memory, cuDNN 4007)\n"
     ]
    }
   ],
   "source": [
    "import sys\n",
    "import os\n",
    "import time\n",
    "\n",
    "import numpy as np\n",
    "import theano\n",
    "import theano.tensor as T\n",
    "\n",
    "import lasagne"
   ]
  },
  {
   "cell_type": "code",
   "execution_count": 4,
   "metadata": {
    "collapsed": true
   },
   "outputs": [],
   "source": [
    "import matplotlib.pyplot as plt\n",
    "%matplotlib inline"
   ]
  },
  {
   "cell_type": "markdown",
   "metadata": {},
   "source": [
    "## Adversarial noise for MNIST\n",
    "\n",
    "##### Based on the notebook found here\n",
    "https://github.com/Hvass-Labs/TensorFlow-Tutorials/blob/master/12_Adversarial_Noise_MNIST.ipynb\n",
    "\n",
    "##### Intro Write-up"
   ]
  },
  {
   "cell_type": "code",
   "execution_count": 2,
   "metadata": {
    "collapsed": true
   },
   "outputs": [],
   "source": [
    "def load_dataset():\n",
    "    # We first define a download function, supporting both Python 2 and 3.\n",
    "    if sys.version_info[0] == 2:\n",
    "        from urllib import urlretrieve\n",
    "    else:\n",
    "        from urllib.request import urlretrieve\n",
    "\n",
    "    def download(filename, source='http://yann.lecun.com/exdb/mnist/'):\n",
    "        print(\"Downloading %s\" % filename)\n",
    "        urlretrieve(source + filename, filename)\n",
    "\n",
    "    # We then define functions for loading MNIST images and labels.\n",
    "    # For convenience, they also download the requested files if needed.\n",
    "    import gzip\n",
    "\n",
    "    def load_mnist_images(filename):\n",
    "        if not os.path.exists(filename):\n",
    "            download(filename)\n",
    "        # Read the inputs in Yann LeCun's binary format.\n",
    "        with gzip.open(filename, 'rb') as f:\n",
    "            data = np.frombuffer(f.read(), np.uint8, offset=16)\n",
    "        # The inputs are vectors now, we reshape them to monochrome 2D images,\n",
    "        # following the shape convention: (examples, channels, rows, columns)\n",
    "        data = data.reshape(-1, 1, 28, 28)\n",
    "        # The inputs come as bytes, we convert them to float32 in range [0,1].\n",
    "        # (Actually to range [0, 255/256], for compatibility to the version\n",
    "        # provided at http://deeplearning.net/data/mnist/mnist.pkl.gz.)\n",
    "        return data / np.float32(256)\n",
    "\n",
    "    def load_mnist_labels(filename):\n",
    "        if not os.path.exists(filename):\n",
    "            download(filename)\n",
    "        # Read the labels in Yann LeCun's binary format.\n",
    "        with gzip.open(filename, 'rb') as f:\n",
    "            data = np.frombuffer(f.read(), np.uint8, offset=8)\n",
    "        # The labels are vectors of integers now, that's exactly what we want.\n",
    "        return data\n",
    "\n",
    "    # We can now download and read the training and test set images and labels.\n",
    "    X_train = load_mnist_images('train-images-idx3-ubyte.gz')\n",
    "    y_train = load_mnist_labels('train-labels-idx1-ubyte.gz')\n",
    "    X_test = load_mnist_images('t10k-images-idx3-ubyte.gz')\n",
    "    y_test = load_mnist_labels('t10k-labels-idx1-ubyte.gz')\n",
    "\n",
    "    # We reserve the last 10000 training examples for validation.\n",
    "    X_train, X_val = X_train[:-10000], X_train[-10000:]\n",
    "    y_train, y_val = y_train[:-10000], y_train[-10000:]\n",
    "\n",
    "    # We just return all the arrays in order, as expected in main().\n",
    "    # (It doesn't matter how we do this as long as we can read them again.)\n",
    "    return X_train, y_train, X_val, y_val, X_test, y_test\n"
   ]
  },
  {
   "cell_type": "code",
   "execution_count": 3,
   "metadata": {
    "collapsed": true
   },
   "outputs": [],
   "source": [
    "# Load the dataset\n",
    "X_train, y_train, X_val, y_val, X_test, y_test = load_dataset()"
   ]
  },
  {
   "cell_type": "markdown",
   "metadata": {},
   "source": [
    "## Plotting MNIST images with true labels"
   ]
  },
  {
   "cell_type": "code",
   "execution_count": 11,
   "metadata": {
    "collapsed": true
   },
   "outputs": [],
   "source": [
    "# A function to plot images, taking a list of images, the number of rows and cols\n",
    "def plot_images(images, row, col, true_labels=None, false_labels=None):\n",
    "    \n",
    "    # Creating a figure of subplots\n",
    "    fig, axes = plt.subplots(row, col)\n",
    "    fig.subplots_adjust(hspace=0.3, wspace=0.3)\n",
    "    \n",
    "    for i, ax in enumerate(axes.flat):\n",
    "        \n",
    "        image = images[i].reshape((28, 28))\n",
    "        \n",
    "        ax.imshow(image, cmap='gray')\n",
    "        \n",
    "        if true_labels != None:\n",
    "            ax.set_xlabel(\"True: {}, Pred: {}\".format(true_labels[i], false_labels[i]))\n",
    "        \n",
    "        ax.set_xticks([])\n",
    "        ax.set_yticks([])\n",
    "    \n",
    "    # Show cells\n",
    "    plt.show()"
   ]
  },
  {
   "cell_type": "code",
   "execution_count": 12,
   "metadata": {
    "collapsed": false
   },
   "outputs": [
    {
     "name": "stderr",
     "output_type": "stream",
     "text": [
      "/home/schiang/anaconda2/lib/python2.7/site-packages/ipykernel/__main__.py:14: FutureWarning: comparison to `None` will result in an elementwise object comparison in the future.\n"
     ]
    },
    {
     "data": {
      "image/png": "[encoded data removed]",
      "text/plain": [
       "<matplotlib.figure.Figure at 0x7f16793bd510>"
      ]
     },
     "metadata": {},
     "output_type": "display_data"
    }
   ],
   "source": [
    "plot_images(X_val[0:9], 3, 3, y_val[:9], y_val[:9])"
   ]
  },
  {
   "cell_type": "markdown",
   "metadata": {},
   "source": [
    "# Building and training an MNIST network\n",
    "\n",
    "#### From MNIST-lasagne notebook"
   ]
  },
  {
   "cell_type": "code",
   "execution_count": 38,
   "metadata": {
    "collapsed": true
   },
   "outputs": [],
   "source": [
    "def build_cnn(input_var=None):\n",
    "    network = lasagne.layers.InputLayer(shape=(None, 1, 28, 28),\n",
    "                                        input_var=input_var)\n",
    "    \n",
    "    network = lasagne.layers.Conv2DLayer(\n",
    "        network, num_filters=32, filter_size=(5, 5),\n",
    "        nonlinearity=lasagne.nonlinearities.rectify,\n",
    "        W=lasagne.init.GlorotUniform('relu'))\n",
    "    \n",
    "    network = lasagne.layers.MaxPool2DLayer(network, pool_size=(2, 2))\n",
    "    \n",
    "    network = lasagne.layers.Conv2DLayer(\n",
    "        network, num_filters=32, filter_size=(3, 3),\n",
    "        nonlinearity=lasagne.nonlinearities.rectify)\n",
    "    \n",
    "    network = lasagne.layers.MaxPool2DLayer(network, pool_size=(2, 2))\n",
    "    \n",
    "    network = lasagne.layers.DenseLayer(\n",
    "        lasagne.layers.dropout(network, p=.5),\n",
    "        num_units=256,\n",
    "        nonlinearity=lasagne.nonlinearities.rectify)\n",
    "    \n",
    "    network = lasagne.layers.DenseLayer(\n",
    "        lasagne.layers.dropout(network, p=.5),\n",
    "        num_units=10,\n",
    "        nonlinearity=lasagne.nonlinearities.softmax)\n",
    "\n",
    "    return network"
   ]
  },
  {
   "cell_type": "code",
   "execution_count": 39,
   "metadata": {
    "collapsed": true
   },
   "outputs": [],
   "source": [
    "def iterate_minibatches(inputs, targets, batchsize, shuffle=False):\n",
    "    assert len(inputs) == len(targets)\n",
    "    if shuffle:\n",
    "        indices = np.arange(len(inputs))\n",
    "        np.random.shuffle(indices)\n",
    "    for start_idx in range(0, len(inputs) - batchsize + 1, batchsize):\n",
    "        if shuffle:\n",
    "            excerpt = indices[start_idx:start_idx + batchsize]\n",
    "        else:\n",
    "            excerpt = slice(start_idx, start_idx + batchsize)\n",
    "        yield inputs[excerpt], targets[excerpt]"
   ]
  },
  {
   "cell_type": "code",
   "execution_count": 40,
   "metadata": {
    "collapsed": true
   },
   "outputs": [],
   "source": [
    "# Prepare Theano variables for inputs and targets\n",
    "input_var = T.tensor4('inputs')\n",
    "target_var = T.ivector('targets')\n",
    "# Create neural network model\n",
    "network = build_cnn(input_var)\n",
    "\n",
    "prediction = lasagne.layers.get_output(network)\n",
    "loss = lasagne.objectives.categorical_crossentropy(prediction, target_var)\n",
    "loss = loss.mean()\n",
    "\n",
    "params = lasagne.layers.get_all_params(network, trainable=True)\n",
    "updates = lasagne.updates.nesterov_momentum(\n",
    "        loss, params, learning_rate=0.01, momentum=0.9)\n",
    "\n",
    "test_prediction = lasagne.layers.get_output(network, deterministic=True)\n",
    "test_loss = lasagne.objectives.categorical_crossentropy(test_prediction,\n",
    "                                                        target_var)\n",
    "test_loss = test_loss.mean()\n",
    "test_acc = T.mean(T.eq(T.argmax(test_prediction, axis=1), target_var),\n",
    "                  dtype=theano.config.floatX)\n",
    "\n",
    "#Theano functions for training and testing\n",
    "train_fn = theano.function([input_var, target_var], loss, updates=updates)\n",
    "val_fn = theano.function([input_var, target_var], [test_loss, test_acc])"
   ]
  },
  {
   "cell_type": "code",
   "execution_count": 41,
   "metadata": {
    "collapsed": false,
    "scrolled": true
   },
   "outputs": [
    {
     "name": "stdout",
     "output_type": "stream",
     "text": [
      "Epoch 1 of 15 took 1.064s\n",
      "  training loss:\t\t1.596552\n",
      "  validation loss:\t\t0.356259\n",
      "  validation accuracy:\t\t90.67 %\n",
      "Epoch 2 of 15 took 1.040s\n",
      "  training loss:\t\t0.502706\n",
      "  validation loss:\t\t0.176895\n",
      "  validation accuracy:\t\t95.30 %\n",
      "Epoch 3 of 15 took 1.044s\n",
      "  training loss:\t\t0.341954\n",
      "  validation loss:\t\t0.130727\n",
      "  validation accuracy:\t\t96.34 %\n",
      "Epoch 4 of 15 took 1.044s\n",
      "  training loss:\t\t0.268094\n",
      "  validation loss:\t\t0.114000\n",
      "  validation accuracy:\t\t96.54 %\n",
      "Epoch 5 of 15 took 1.043s\n",
      "  training loss:\t\t0.235851\n",
      "  validation loss:\t\t0.096249\n",
      "  validation accuracy:\t\t97.24 %\n",
      "Epoch 6 of 15 took 1.042s\n",
      "  training loss:\t\t0.209152\n",
      "  validation loss:\t\t0.087313\n",
      "  validation accuracy:\t\t97.47 %\n",
      "Epoch 7 of 15 took 1.036s\n",
      "  training loss:\t\t0.191421\n",
      "  validation loss:\t\t0.080369\n",
      "  validation accuracy:\t\t97.70 %\n",
      "Epoch 8 of 15 took 1.042s\n",
      "  training loss:\t\t0.179608\n",
      "  validation loss:\t\t0.075056\n",
      "  validation accuracy:\t\t97.80 %\n",
      "Epoch 9 of 15 took 1.034s\n",
      "  training loss:\t\t0.165215\n",
      "  validation loss:\t\t0.070504\n",
      "  validation accuracy:\t\t97.96 %\n",
      "Epoch 10 of 15 took 1.042s\n",
      "  training loss:\t\t0.152758\n",
      "  validation loss:\t\t0.068012\n",
      "  validation accuracy:\t\t98.05 %\n",
      "Epoch 11 of 15 took 1.041s\n",
      "  training loss:\t\t0.148237\n",
      "  validation loss:\t\t0.063863\n",
      "  validation accuracy:\t\t98.15 %\n",
      "Epoch 12 of 15 took 1.041s\n",
      "  training loss:\t\t0.143424\n",
      "  validation loss:\t\t0.060908\n",
      "  validation accuracy:\t\t98.26 %\n",
      "Epoch 13 of 15 took 1.045s\n",
      "  training loss:\t\t0.134917\n",
      "  validation loss:\t\t0.057796\n",
      "  validation accuracy:\t\t98.33 %\n",
      "Epoch 14 of 15 took 1.045s\n",
      "  training loss:\t\t0.132741\n",
      "  validation loss:\t\t0.056559\n",
      "  validation accuracy:\t\t98.37 %\n",
      "Epoch 15 of 15 took 1.046s\n",
      "  training loss:\t\t0.123485\n",
      "  validation loss:\t\t0.054119\n",
      "  validation accuracy:\t\t98.45 %\n"
     ]
    }
   ],
   "source": [
    "num_epochs=15\n",
    "\n",
    "for epoch in range(num_epochs):\n",
    "    # In each epoch, we do a full pass over the training data:\n",
    "    train_err = 0\n",
    "    train_batches = 0\n",
    "    start_time = time.time()\n",
    "    for batch in iterate_minibatches(X_train, y_train, 500, shuffle=True):\n",
    "        inputs, targets = batch\n",
    "        train_err += train_fn(inputs, targets)\n",
    "        train_batches += 1\n",
    "\n",
    "    # And a full pass over the validation data:\n",
    "    val_err = 0\n",
    "    val_acc = 0\n",
    "    val_batches = 0\n",
    "    for batch in iterate_minibatches(X_val, y_val, 500, shuffle=False):\n",
    "        inputs, targets = batch\n",
    "        err, acc = val_fn(inputs, targets)\n",
    "        val_err += err\n",
    "        val_acc += acc\n",
    "        val_batches += 1\n",
    "\n",
    "    # Then we print the results for this epoch:\n",
    "    print(\"Epoch {} of {} took {:.3f}s\".format(\n",
    "        epoch + 1, num_epochs, time.time() - start_time))\n",
    "    print(\"  training loss:\\t\\t{:.6f}\".format(train_err / train_batches))\n",
    "    print(\"  validation loss:\\t\\t{:.6f}\".format(val_err / val_batches))\n",
    "    print(\"  validation accuracy:\\t\\t{:.2f} %\".format(\n",
    "        val_acc / val_batches * 100))"
   ]
  },
  {
   "cell_type": "markdown",
   "metadata": {},
   "source": [
    "# Working with Adversarial Noise\n",
    "\n",
    "Following the work from a notebook tutorial created by the Hvass lab, I am trying to generate a noise matrix that is able to generate adversarial noise to confuse the digits 2 and 6. The idea is to begin with a trained CNN for MNIST classification, and then a 28x28 matrix of random noise. Then the input is chosen to be the image added with the noise and fed into the CNN. THe cost function is then generated, but instead of using the actual prediction, you choose a mis-classified label and backpropagate the resulting function to modify the noise. Doing so over several iterations should produce noise patterns that are able to disrupt regular classification of digits. "
   ]
  },
  {
   "cell_type": "code",
   "execution_count": 42,
   "metadata": {
    "collapsed": false
   },
   "outputs": [],
   "source": [
    "#Saving parameters from trained network\n",
    "trained_params = lasagne.layers.get_all_params(network)"
   ]
  },
  {
   "cell_type": "code",
   "execution_count": 200,
   "metadata": {
    "collapsed": false
   },
   "outputs": [],
   "source": [
    "# Prepare Theano variables for inputs and targets\n",
    "input_var = T.tensor4('inputs')\n",
    "target_var = T.ivector('targets')\n",
    "noise_values = np.zeros((1, 28, 28), dtype=theano.config.floatX)\n",
    "noise = theano.shared(noise_values, borrow=True, name='noise')\n",
    "\n",
    "l2_weight = 0.01\n",
    "noise_clip = 0.35\n",
    "\n",
    "noisy_image = noise.clip(-noise_clip, noise_clip) + input_var\n",
    "ad_network = build_cnn(noisy_image)\n",
    "lasagne.layers.set_all_param_values(ad_network, extracted)\n",
    "\n",
    "prediction = lasagne.layers.get_output(ad_network)\n",
    "loss = lasagne.objectives.categorical_crossentropy(prediction, target_var)\n",
    "loss = loss.mean()\n",
    "loss += lasagne.regularization.l2(noise) * l2_weight #adding l2 regularization\n",
    "\n",
    "#params = lasagne.layers.get_all_params(network, trainable=True)\n",
    "updates = lasagne.updates.nesterov_momentum(\n",
    "        loss, [noise], learning_rate=0.01, momentum=0.9)\n",
    "\n",
    "test_prediction = lasagne.layers.get_output(ad_network, deterministic=True)\n",
    "test_loss = lasagne.objectives.categorical_crossentropy(test_prediction,\n",
    "                                                        target_var)\n",
    "test_loss = test_loss.mean()\n",
    "test_acc = T.mean(T.eq(T.argmax(test_prediction, axis=1), target_var),\n",
    "                  dtype=theano.config.floatX)\n",
    "\n",
    "#Theano functions for training and testing\n",
    "train_fn = theano.function([input_var, target_var], loss, updates=updates)\n",
    "val_fn = theano.function([input_var, target_var], [test_loss, test_acc])"
   ]
  },
  {
   "cell_type": "code",
   "execution_count": 53,
   "metadata": {
    "collapsed": false
   },
   "outputs": [],
   "source": [
    "mistargets = np.array([6 for i in range(500)]).astype('uint8')"
   ]
  },
  {
   "cell_type": "code",
   "execution_count": 188,
   "metadata": {
    "collapsed": false
   },
   "outputs": [
    {
     "name": "stdout",
     "output_type": "stream",
     "text": [
      "<type 'numpy.uint8'>\n",
      "<type 'numpy.uint8'>\n"
     ]
    }
   ],
   "source": [
    "print type(mistargets[0])\n",
    "print type(y_train[0])"
   ]
  },
  {
   "cell_type": "code",
   "execution_count": 201,
   "metadata": {
    "collapsed": false,
    "scrolled": true
   },
   "outputs": [
    {
     "name": "stdout",
     "output_type": "stream",
     "text": [
      "Epoch 1 of 50 took 0.914s\n",
      "  training loss:\t\t5.342086\n",
      "  validation loss:\t\t1.555510\n",
      "  validation accuracy:\t\t57.62 %\n",
      "Epoch 2 of 50 took 0.881s\n",
      "  training loss:\t\t2.140875\n",
      "  validation loss:\t\t0.947866\n",
      "  validation accuracy:\t\t70.73 %\n",
      "Epoch 3 of 50 took 0.885s\n",
      "  training loss:\t\t1.808965\n",
      "  validation loss:\t\t0.780418\n",
      "  validation accuracy:\t\t74.87 %\n",
      "Epoch 4 of 50 took 0.880s\n",
      "  training loss:\t\t1.702336\n",
      "  validation loss:\t\t0.710155\n",
      "  validation accuracy:\t\t76.95 %\n",
      "Epoch 5 of 50 took 0.879s\n",
      "  training loss:\t\t1.656930\n",
      "  validation loss:\t\t0.670672\n",
      "  validation accuracy:\t\t78.16 %\n",
      "Epoch 6 of 50 took 0.884s\n",
      "  training loss:\t\t1.643428\n",
      "  validation loss:\t\t0.644676\n",
      "  validation accuracy:\t\t78.83 %\n",
      "Epoch 7 of 50 took 0.879s\n",
      "  training loss:\t\t1.616299\n",
      "  validation loss:\t\t0.626347\n",
      "  validation accuracy:\t\t79.37 %\n",
      "Epoch 8 of 50 took 0.880s\n",
      "  training loss:\t\t1.609858\n",
      "  validation loss:\t\t0.614854\n",
      "  validation accuracy:\t\t79.69 %\n",
      "Epoch 9 of 50 took 0.885s\n",
      "  training loss:\t\t1.592193\n",
      "  validation loss:\t\t0.607286\n",
      "  validation accuracy:\t\t79.97 %\n",
      "Epoch 10 of 50 took 0.879s\n",
      "  training loss:\t\t1.579702\n",
      "  validation loss:\t\t0.601881\n",
      "  validation accuracy:\t\t80.14 %\n",
      "Epoch 11 of 50 took 0.881s\n",
      "  training loss:\t\t1.584316\n",
      "  validation loss:\t\t0.597131\n",
      "  validation accuracy:\t\t80.27 %\n",
      "Epoch 12 of 50 took 0.880s\n",
      "  training loss:\t\t1.592765\n",
      "  validation loss:\t\t0.592053\n",
      "  validation accuracy:\t\t80.45 %\n",
      "Epoch 13 of 50 took 0.883s\n",
      "  training loss:\t\t1.582746\n",
      "  validation loss:\t\t0.585458\n",
      "  validation accuracy:\t\t80.61 %\n",
      "Epoch 14 of 50 took 0.878s\n",
      "  training loss:\t\t1.564916\n",
      "  validation loss:\t\t0.580711\n",
      "  validation accuracy:\t\t80.72 %\n",
      "Epoch 15 of 50 took 0.879s\n",
      "  training loss:\t\t1.582795\n",
      "  validation loss:\t\t0.577231\n",
      "  validation accuracy:\t\t80.83 %\n",
      "Epoch 16 of 50 took 0.878s\n",
      "  training loss:\t\t1.561662\n",
      "  validation loss:\t\t0.573327\n",
      "  validation accuracy:\t\t80.97 %\n",
      "Epoch 17 of 50 took 0.879s\n",
      "  training loss:\t\t1.554971\n",
      "  validation loss:\t\t0.569340\n",
      "  validation accuracy:\t\t81.03 %\n",
      "Epoch 18 of 50 took 0.879s\n",
      "  training loss:\t\t1.561712\n",
      "  validation loss:\t\t0.564579\n",
      "  validation accuracy:\t\t81.24 %\n",
      "Epoch 19 of 50 took 0.884s\n",
      "  training loss:\t\t1.556479\n",
      "  validation loss:\t\t0.560717\n",
      "  validation accuracy:\t\t81.28 %\n",
      "Epoch 20 of 50 took 0.878s\n",
      "  training loss:\t\t1.547545\n",
      "  validation loss:\t\t0.557914\n",
      "  validation accuracy:\t\t81.36 %\n",
      "Epoch 21 of 50 took 0.881s\n",
      "  training loss:\t\t1.540475\n",
      "  validation loss:\t\t0.554651\n",
      "  validation accuracy:\t\t81.49 %\n",
      "Epoch 22 of 50 took 0.879s\n",
      "  training loss:\t\t1.533510\n",
      "  validation loss:\t\t0.551833\n",
      "  validation accuracy:\t\t81.58 %\n",
      "Epoch 23 of 50 took 0.884s\n",
      "  training loss:\t\t1.541500\n",
      "  validation loss:\t\t0.548754\n",
      "  validation accuracy:\t\t81.69 %\n",
      "Epoch 24 of 50 took 0.880s\n",
      "  training loss:\t\t1.528842\n",
      "  validation loss:\t\t0.546080\n",
      "  validation accuracy:\t\t81.81 %\n",
      "Epoch 25 of 50 took 0.879s\n",
      "  training loss:\t\t1.529745\n",
      "  validation loss:\t\t0.543591\n",
      "  validation accuracy:\t\t81.88 %\n",
      "Epoch 26 of 50 took 0.884s\n",
      "  training loss:\t\t1.528134\n",
      "  validation loss:\t\t0.540983\n",
      "  validation accuracy:\t\t81.94 %\n",
      "Epoch 27 of 50 took 0.879s\n",
      "  training loss:\t\t1.527012\n",
      "  validation loss:\t\t0.537723\n",
      "  validation accuracy:\t\t82.13 %\n",
      "Epoch 28 of 50 took 0.879s\n",
      "  training loss:\t\t1.520049\n",
      "  validation loss:\t\t0.534260\n",
      "  validation accuracy:\t\t82.21 %\n",
      "Epoch 29 of 50 took 0.879s\n",
      "  training loss:\t\t1.510106\n",
      "  validation loss:\t\t0.530603\n",
      "  validation accuracy:\t\t82.43 %\n",
      "Epoch 30 of 50 took 0.878s\n",
      "  training loss:\t\t1.519036\n",
      "  validation loss:\t\t0.527916\n",
      "  validation accuracy:\t\t82.53 %\n",
      "Epoch 31 of 50 took 0.881s\n",
      "  training loss:\t\t1.505512\n",
      "  validation loss:\t\t0.525672\n",
      "  validation accuracy:\t\t82.59 %\n",
      "Epoch 32 of 50 took 0.880s\n",
      "  training loss:\t\t1.499941\n",
      "  validation loss:\t\t0.523289\n",
      "  validation accuracy:\t\t82.68 %\n",
      "Epoch 33 of 50 took 0.879s\n",
      "  training loss:\t\t1.497592\n",
      "  validation loss:\t\t0.521191\n",
      "  validation accuracy:\t\t82.79 %\n",
      "Epoch 34 of 50 took 0.881s\n",
      "  training loss:\t\t1.500890\n",
      "  validation loss:\t\t0.520318\n",
      "  validation accuracy:\t\t82.84 %\n",
      "Epoch 35 of 50 took 0.879s\n",
      "  training loss:\t\t1.486015\n",
      "  validation loss:\t\t0.519204\n",
      "  validation accuracy:\t\t82.88 %\n",
      "Epoch 36 of 50 took 0.884s\n",
      "  training loss:\t\t1.498472\n",
      "  validation loss:\t\t0.516991\n",
      "  validation accuracy:\t\t82.97 %\n",
      "Epoch 37 of 50 took 0.878s\n",
      "  training loss:\t\t1.497190\n",
      "  validation loss:\t\t0.513392\n",
      "  validation accuracy:\t\t83.11 %\n",
      "Epoch 38 of 50 took 0.879s\n",
      "  training loss:\t\t1.500186\n",
      "  validation loss:\t\t0.509814\n",
      "  validation accuracy:\t\t83.17 %\n",
      "Epoch 39 of 50 took 0.879s\n",
      "  training loss:\t\t1.482436\n",
      "  validation loss:\t\t0.506483\n",
      "  validation accuracy:\t\t83.25 %\n",
      "Epoch 40 of 50 took 0.879s\n",
      "  training loss:\t\t1.489363\n",
      "  validation loss:\t\t0.503570\n",
      "  validation accuracy:\t\t83.35 %\n",
      "Epoch 41 of 50 took 0.878s\n",
      "  training loss:\t\t1.484858\n",
      "  validation loss:\t\t0.502528\n",
      "  validation accuracy:\t\t83.42 %\n",
      "Epoch 42 of 50 took 0.881s\n",
      "  training loss:\t\t1.481972\n",
      "  validation loss:\t\t0.500832\n",
      "  validation accuracy:\t\t83.49 %\n",
      "Epoch 43 of 50 took 0.876s\n",
      "  training loss:\t\t1.474636\n",
      "  validation loss:\t\t0.500430\n",
      "  validation accuracy:\t\t83.51 %\n",
      "Epoch 44 of 50 took 0.868s\n",
      "  training loss:\t\t1.483959\n",
      "  validation loss:\t\t0.499685\n",
      "  validation accuracy:\t\t83.57 %\n",
      "Epoch 45 of 50 took 0.883s\n",
      "  training loss:\t\t1.483374\n",
      "  validation loss:\t\t0.498891\n",
      "  validation accuracy:\t\t83.62 %\n",
      "Epoch 46 of 50 took 0.879s\n",
      "  training loss:\t\t1.486503\n",
      "  validation loss:\t\t0.497979\n",
      "  validation accuracy:\t\t83.60 %\n",
      "Epoch 47 of 50 took 0.885s\n",
      "  training loss:\t\t1.478754\n",
      "  validation loss:\t\t0.497195\n",
      "  validation accuracy:\t\t83.62 %\n",
      "Epoch 48 of 50 took 0.885s\n",
      "  training loss:\t\t1.480856\n",
      "  validation loss:\t\t0.496811\n",
      "  validation accuracy:\t\t83.57 %\n",
      "Epoch 49 of 50 took 0.880s\n",
      "  training loss:\t\t1.471482\n",
      "  validation loss:\t\t0.496459\n",
      "  validation accuracy:\t\t83.58 %\n",
      "Epoch 50 of 50 took 0.885s\n",
      "  training loss:\t\t1.482075\n",
      "  validation loss:\t\t0.496275\n",
      "  validation accuracy:\t\t83.57 %\n"
     ]
    }
   ],
   "source": [
    "num_epochs=50\n",
    "#noise = theano.shared(noise_values, borrow=True, name='noise')\n",
    "\n",
    "for epoch in range(num_epochs):\n",
    "    # In each epoch, we do a full pass over the training data:\n",
    "    train_err = 0\n",
    "    train_batches = 0\n",
    "    start_time = time.time()\n",
    "    for batch in iterate_minibatches(X_train, y_train, 500, shuffle=True):\n",
    "        inputs, targets = batch\n",
    "        train_err += train_fn(inputs.clip(0, 1), mistargets)\n",
    "        train_batches += 1\n",
    "\n",
    "    # And a full pass over the validation data:\n",
    "    val_err = 0\n",
    "    val_acc = 0\n",
    "    val_batches = 0\n",
    "    for batch in iterate_minibatches(X_val, y_val, 500, shuffle=False):\n",
    "        inputs, targets = batch\n",
    "        err, acc = val_fn(inputs.clip(0, 1), mistargets)\n",
    "        val_err += err\n",
    "        val_acc += acc\n",
    "        val_batches += 1\n",
    "\n",
    "    # Then we print the results for this epoch:\n",
    "    print(\"Epoch {} of {} took {:.3f}s\".format(\n",
    "        epoch + 1, num_epochs, time.time() - start_time))\n",
    "    print(\"  training loss:\\t\\t{:.6f}\".format(train_err / train_batches))\n",
    "    print(\"  validation loss:\\t\\t{:.6f}\".format(val_err / val_batches))\n",
    "    print(\"  validation accuracy:\\t\\t{:.2f} %\".format(\n",
    "        val_acc / val_batches * 100))"
   ]
  },
  {
   "cell_type": "markdown",
   "metadata": {},
   "source": [
    "## Plot of the adversarial noise"
   ]
  },
  {
   "cell_type": "code",
   "execution_count": 203,
   "metadata": {
    "collapsed": false
   },
   "outputs": [
    {
     "name": "stdout",
     "output_type": "stream",
     "text": [
      "0.352071\n",
      "-0.352366\n"
     ]
    }
   ],
   "source": [
    "print(np.max(noise.eval()))\n",
    "print(np.min(noise.eval()))"
   ]
  },
  {
   "cell_type": "code",
   "execution_count": 204,
   "metadata": {
    "collapsed": false
   },
   "outputs": [
    {
     "data": {
      "text/plain": [
       "<matplotlib.image.AxesImage at 0x7f165b01c290>"
      ]
     },
     "execution_count": 204,
     "metadata": {},
     "output_type": "execute_result"
    },
    {
     "data": {
      "image/png": "[encoded data removed]",
      "text/plain": [
       "<matplotlib.figure.Figure at 0x7f165afb9390>"
      ]
     },
     "metadata": {},
     "output_type": "display_data"
    }
   ],
   "source": [
    "plt.imshow(noise.eval().reshape((28, 28)), vmin=0, vmax=1)"
   ]
  },
  {
   "cell_type": "markdown",
   "metadata": {},
   "source": [
    "## Adversarial noise added to the image"
   ]
  },
  {
   "cell_type": "code",
   "execution_count": 205,
   "metadata": {
    "collapsed": false
   },
   "outputs": [
    {
     "data": {
      "image/png": "[encoded data removed]",
      "text/plain": [
       "<matplotlib.figure.Figure at 0x7f165d52f7d0>"
      ]
     },
     "metadata": {},
     "output_type": "display_data"
    }
   ],
   "source": [
    "# Creating a figure of subplots\n",
    "fig, axes = plt.subplots(5, 2, figsize=(10, 10))\n",
    "fig.subplots_adjust(hspace=0.3, wspace=0.3)\n",
    "\n",
    "for i in range(5):\n",
    "\n",
    "    image = X_test[i].reshape((28, 28))\n",
    "\n",
    "    axes[i, 0].imshow(image, cmap='gray')\n",
    "    axes[i, 1].imshow(image + np.array(noise.eval()).squeeze(), cmap='gray')\n",
    "\n",
    "    axes[i, 0].set_xticks([])\n",
    "    axes[i, 0].set_yticks([])\n",
    "    axes[i, 1].set_xticks([])\n",
    "    axes[i, 1].set_yticks([])\n",
    "\n",
    "# Show cells\n",
    "plt.show()"
   ]
  },
  {
   "cell_type": "markdown",
   "metadata": {},
   "source": [
    "### Comparing the original trained MNIST CNN with regular digits and with the adversarial noise"
   ]
  },
  {
   "cell_type": "code",
   "execution_count": 128,
   "metadata": {
    "collapsed": true
   },
   "outputs": [],
   "source": [
    "extracted = []\n",
    "for p in trained_params:\n",
    "    extracted.append(p.eval())"
   ]
  },
  {
   "cell_type": "code",
   "execution_count": 133,
   "metadata": {
    "collapsed": false
   },
   "outputs": [],
   "source": [
    "input_var = T.tensor4('inputs')\n",
    "\n",
    "network = build_cnn(input_var)\n",
    "lasagne.layers.set_all_param_values(network, extracted)\n",
    "\n",
    "test_prediction = lasagne.layers.get_output(network)\n",
    "output_fn = theano.function([input_var], T.argmax(test_prediction, axis=1))\n",
    "\n",
    "inputs, targets = batch\n",
    "pred = output_fn(X_test)"
   ]
  },
  {
   "cell_type": "markdown",
   "metadata": {},
   "source": [
    "### Plotting the original predictions again"
   ]
  },
  {
   "cell_type": "code",
   "execution_count": 140,
   "metadata": {
    "collapsed": false
   },
   "outputs": [
    {
     "name": "stderr",
     "output_type": "stream",
     "text": [
      "/home/schiang/anaconda2/lib/python2.7/site-packages/ipykernel/__main__.py:14: FutureWarning: comparison to `None` will result in an elementwise object comparison in the future.\n"
     ]
    },
    {
     "data": {
      "image/png": "[encoded data removed]",
      "text/plain": [
       "<matplotlib.figure.Figure at 0x7f1662f1cf90>"
      ]
     },
     "metadata": {},
     "output_type": "display_data"
    }
   ],
   "source": [
    "plot_images(X_test[0:9], 3, 3, pred[:9], pred[:9])"
   ]
  },
  {
   "cell_type": "markdown",
   "metadata": {},
   "source": [
    "### Plotting the images with added \"random noise\"\n",
    "\n",
    "Because the images with adversarial noise do look different than the original MNIST images (presumably because the MNIST images are noise free initially and would be different with natural images)."
   ]
  },
  {
   "cell_type": "code",
   "execution_count": 156,
   "metadata": {
    "collapsed": false
   },
   "outputs": [],
   "source": [
    "import copy"
   ]
  },
  {
   "cell_type": "code",
   "execution_count": 157,
   "metadata": {
    "collapsed": false
   },
   "outputs": [],
   "source": [
    "X_test_noise = copy.deepcopy(X_test)"
   ]
  },
  {
   "cell_type": "code",
   "execution_count": 168,
   "metadata": {
    "collapsed": false,
    "scrolled": true
   },
   "outputs": [],
   "source": [
    "X_test_noise = np.random.normal(X_test_noise, 0.35)"
   ]
  },
  {
   "cell_type": "code",
   "execution_count": 172,
   "metadata": {
    "collapsed": false
   },
   "outputs": [],
   "source": [
    "X_test_noise = X_test_noise.astype('float32')"
   ]
  },
  {
   "cell_type": "code",
   "execution_count": 173,
   "metadata": {
    "collapsed": false
   },
   "outputs": [],
   "source": [
    "pred = output_fn(X_test_noise)"
   ]
  },
  {
   "cell_type": "code",
   "execution_count": 182,
   "metadata": {
    "collapsed": false
   },
   "outputs": [
    {
     "name": "stdout",
     "output_type": "stream",
     "text": [
      "The accuracy of the MNIST plus random noise is 95.52\n"
     ]
    }
   ],
   "source": [
    "# Outputting the accuracy of the predictions after noise corruption\n",
    "accuracy = np.sum(pred == y_test) / 10000.0\n",
    "print \"The accuracy of the MNIST plus random noise is {}\".format(accuracy * 100)"
   ]
  },
  {
   "cell_type": "code",
   "execution_count": 175,
   "metadata": {
    "collapsed": false
   },
   "outputs": [
    {
     "data": {
      "image/png": "[encoded data removed]",
      "text/plain": [
       "<matplotlib.figure.Figure at 0x7f165d508e90>"
      ]
     },
     "metadata": {},
     "output_type": "display_data"
    }
   ],
   "source": [
    "# Creating a figure of subplots\n",
    "fig, axes = plt.subplots(5, 2, figsize=(10, 10))\n",
    "fig.subplots_adjust(hspace=0.3, wspace=0.3)\n",
    "\n",
    "for i in range(5):\n",
    "\n",
    "    axes[i, 0].imshow(X_test[i].reshape((28, 28)), cmap='gray')\n",
    "    axes[i, 1].imshow(X_test_noise[i].reshape((28, 28)), cmap='gray')\n",
    "\n",
    "    axes[i, 0].set_xticks([])\n",
    "    axes[i, 0].set_yticks([])\n",
    "    axes[i, 1].set_xticks([])\n",
    "    axes[i, 1].set_yticks([])\n",
    "\n",
    "# Show cells\n",
    "plt.show()"
   ]
  },
  {
   "cell_type": "markdown",
   "metadata": {},
   "source": [
    "## Plotting the images with the adversarial noise"
   ]
  },
  {
   "cell_type": "code",
   "execution_count": 177,
   "metadata": {
    "collapsed": true
   },
   "outputs": [],
   "source": [
    "X_test_ad = copy.deepcopy(X_test)\n",
    "X_test_ad += noise.eval()"
   ]
  },
  {
   "cell_type": "code",
   "execution_count": 178,
   "metadata": {
    "collapsed": false
   },
   "outputs": [
    {
     "data": {
      "image/png": "[encoded data removed]",
      "text/plain": [
       "<matplotlib.figure.Figure at 0x7f16626c7a50>"
      ]
     },
     "metadata": {},
     "output_type": "display_data"
    }
   ],
   "source": [
    "# Creating a figure of subplots\n",
    "fig, axes = plt.subplots(5, 2, figsize=(10, 10))\n",
    "fig.subplots_adjust(hspace=0.3, wspace=0.3)\n",
    "\n",
    "for i in range(5):\n",
    "\n",
    "    axes[i, 0].imshow(X_test[i].reshape((28, 28)), cmap='gray')\n",
    "    axes[i, 1].imshow(X_test_ad[i].reshape((28, 28)), cmap='gray')\n",
    "\n",
    "    axes[i, 0].set_xticks([])\n",
    "    axes[i, 0].set_yticks([])\n",
    "    axes[i, 1].set_xticks([])\n",
    "    axes[i, 1].set_yticks([])\n",
    "\n",
    "# Show cells\n",
    "plt.show()"
   ]
  },
  {
   "cell_type": "code",
   "execution_count": 206,
   "metadata": {
    "collapsed": false
   },
   "outputs": [
    {
     "name": "stdout",
     "output_type": "stream",
     "text": [
      "The accuracy of the MNIST plus adversarial noise is 24.518\n"
     ]
    }
   ],
   "source": [
    "pred = output_fn(X_train + noise.eval())\n",
    "accuracy = np.sum(pred == y_train) / 50000.0\n",
    "\n",
    "print \"The accuracy of the MNIST plus adversarial noise is {}\".format(accuracy * 100)"
   ]
  },
  {
   "cell_type": "code",
   "execution_count": 186,
   "metadata": {
    "collapsed": false
   },
   "outputs": [
    {
     "data": {
      "text/plain": [
       "array([5, 0, 4, ..., 8, 4, 8], dtype=uint8)"
      ]
     },
     "execution_count": 186,
     "metadata": {},
     "output_type": "execute_result"
    }
   ],
   "source": [
    "y_train"
   ]
  },
  {
   "cell_type": "code",
   "execution_count": 207,
   "metadata": {
    "collapsed": false
   },
   "outputs": [
    {
     "name": "stderr",
     "output_type": "stream",
     "text": [
      "/home/schiang/anaconda2/lib/python2.7/site-packages/ipykernel/__main__.py:14: FutureWarning: comparison to `None` will result in an elementwise object comparison in the future.\n"
     ]
    },
    {
     "data": {
      "image/png": "[encoded data removed]",
      "text/plain": [
       "<matplotlib.figure.Figure at 0x7f165cbf4b50>"
      ]
     },
     "metadata": {},
     "output_type": "display_data"
    }
   ],
   "source": [
    "plot_images(X_test[0:9] + noise.eval(), 3, 3, y_test[:9], [6 for i in range(9)])"
   ]
  },
  {
   "cell_type": "code",
   "execution_count": null,
   "metadata": {
    "collapsed": true
   },
   "outputs": [],
   "source": []
  }
 ],
 "metadata": {
  "kernelspec": {
   "display_name": "Python 2",
   "language": "python",
   "name": "python2"
  },
  "language_info": {
   "codemirror_mode": {
    "name": "ipython",
    "version": 2
   },
   "file_extension": ".py",
   "mimetype": "text/x-python",
   "name": "python",
   "nbconvert_exporter": "python",
   "pygments_lexer": "ipython2",
   "version": "2.7.13"
  }
 },
 "nbformat": 4,
 "nbformat_minor": 2
}
